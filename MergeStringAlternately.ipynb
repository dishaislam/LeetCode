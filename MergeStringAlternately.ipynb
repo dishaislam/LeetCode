{
 "cells": [
  {
   "cell_type": "code",
   "execution_count": 3,
   "id": "525c7849",
   "metadata": {},
   "outputs": [
    {
     "name": "stdout",
     "output_type": "stream",
     "text": [
      "ab\n",
      "pq\n",
      "apbq\n"
     ]
    }
   ],
   "source": [
    "def mergeAlternately(word1,word2):\n",
    "    merged=''\n",
    "    length=max(len(word1),len(word2))\n",
    "    for i in range(length):\n",
    "        if i<len(word1):\n",
    "            merged+=word1[i]\n",
    "        if i<len(word2):\n",
    "            merged+=word2[i]\n",
    "    return merged\n",
    "\n",
    "word1=input()\n",
    "word2=input()\n",
    "mergedString = mergeAlternately(word1,word2)\n",
    "print(mergedString)"
   ]
  },
  {
   "cell_type": "code",
   "execution_count": null,
   "id": "e6fa0041",
   "metadata": {},
   "outputs": [],
   "source": []
  }
 ],
 "metadata": {
  "kernelspec": {
   "display_name": "Python 3 (ipykernel)",
   "language": "python",
   "name": "python3"
  },
  "language_info": {
   "codemirror_mode": {
    "name": "ipython",
    "version": 3
   },
   "file_extension": ".py",
   "mimetype": "text/x-python",
   "name": "python",
   "nbconvert_exporter": "python",
   "pygments_lexer": "ipython3",
   "version": "3.9.12"
  }
 },
 "nbformat": 4,
 "nbformat_minor": 5
}
